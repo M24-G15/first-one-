{
  "metadata": {
    "kernelspec": {
      "name": "python",
      "display_name": "Python (Pyodide)",
      "language": "python"
    },
    "language_info": {
      "codemirror_mode": {
        "name": "python",
        "version": 3
      },
      "file_extension": ".py",
      "mimetype": "text/x-python",
      "name": "python",
      "nbconvert_exporter": "python",
      "pygments_lexer": "ipython3",
      "version": "3.8"
    }
  },
  "nbformat_minor": 4,
  "nbformat": 4,
  "cells": [
    {
      "cell_type": "markdown",
      "source": "# Data Science Tools and Ecosystem \n",
      "metadata": {}
    },
    {
      "cell_type": "markdown",
      "source": "In this notebook, Data Science Tools and Ecosystem are summarized. ",
      "metadata": {}
    },
    {
      "cell_type": "markdown",
      "source": "Some of the popular languages that Data Scientists use are : \n1. Python\n2. R Language\n3. Julia\n4. SQL\n5. Scala",
      "metadata": {}
    },
    {
      "cell_type": "markdown",
      "source": "Some of the commonly used libraries used by Data Scientists include : \n1. NumPy\n2. Pandas\n3. Seaborn\n4. Matplotlib\n5. TensorFlow\n6. Scikit-learn ",
      "metadata": {}
    },
    {
      "cell_type": "markdown",
      "source": "| Data Science Tools |\n| ----------------------- |\n| Jupyter Notebook |\n| RStudio |\n| Visual Studio Code | ",
      "metadata": {}
    },
    {
      "cell_type": "code",
      "source": "### Below are a few examples of evaluating arithmetic expressions in Python : \n# Addition\nresult_add = 5 + 3\nprint(f\"5 + 3 = {result_add}\")\n\n# Subtraction \nresult_subtract = 5 - 3\nprint(f\"5 - 3 = {result_subtract}\")\n\n# Multiplication \nresult_multiply = 5 * 3\nprint(f\"5 * 3 = {result_multiply}\")\n\n# Division \nresult_divide = 6 / 3\nprint(f\"6 / 3 = {result_divide}\")\n\n",
      "metadata": {
        "trusted": true
      },
      "outputs": [
        {
          "name": "stdout",
          "text": "5 + 3 = 8\n5 - 3 = 2\n5 * 3 = 15\n6 / 3 = 2.0\n",
          "output_type": "stream"
        }
      ],
      "execution_count": 2
    },
    {
      "cell_type": "code",
      "source": "### This is a simple arithmetic expression to multiply then add integers\nnum1 = 3\nnum2 = 4\nnum3 = 5\nresult = (num1 * num2) + num3 \nprint(result)",
      "metadata": {
        "trusted": true
      },
      "outputs": [
        {
          "name": "stdout",
          "text": "17\n",
          "output_type": "stream"
        }
      ],
      "execution_count": 4
    },
    {
      "cell_type": "code",
      "source": "### This will convert 200 minutes to hours by dividing by 60 \nminutes = 200\nhours_decimal = minutes/60\nprint(f\"{minutes} minutes is equal to {hours_decimal} hours.\")\n",
      "metadata": {
        "trusted": true
      },
      "outputs": [
        {
          "name": "stdout",
          "text": "200 minutes is equal to 3.3333333333333335 hours.\n",
          "output_type": "stream"
        }
      ],
      "execution_count": 5
    },
    {
      "cell_type": "markdown",
      "source": "**Objectives**\nSome key takeways from the course : \n- The efficient understanding and use of jupyter notebook.\n- Various data languages and the respective libraries are used by data scientists.\n- Simple arithmetic operators were used.\n- Well versed with the interface of Jupyter Notebook\n  ",
      "metadata": {}
    },
    {
      "cell_type": "markdown",
      "source": "## Author ##\nManas Ganesh ",
      "metadata": {}
    },
    {
      "cell_type": "code",
      "source": "",
      "metadata": {
        "trusted": true
      },
      "outputs": [],
      "execution_count": null
    },
    {
      "cell_type": "code",
      "source": "",
      "metadata": {
        "trusted": true
      },
      "outputs": [],
      "execution_count": null
    }
  ]
}